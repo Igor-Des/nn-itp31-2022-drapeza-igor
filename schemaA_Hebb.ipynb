{
  "nbformat": 4,
  "nbformat_minor": 0,
  "metadata": {
    "colab": {
      "provenance": [],
      "collapsed_sections": [],
      "authorship_tag": "ABX9TyM4hdu+1mlwj7gF6BMc8P6J",
      "include_colab_link": true
    },
    "kernelspec": {
      "name": "python3",
      "display_name": "Python 3"
    },
    "language_info": {
      "name": "python"
    }
  },
  "cells": [
    {
      "cell_type": "markdown",
      "metadata": {
        "id": "view-in-github",
        "colab_type": "text"
      },
      "source": [
        "<a href=\"https://colab.research.google.com/github/Igor-Des/nn-itp31-2022-drapeza-igor/blob/1laba/schemaA_Hebb.ipynb\" target=\"_parent\"><img src=\"https://colab.research.google.com/assets/colab-badge.svg\" alt=\"Open In Colab\"/></a>"
      ]
    },
    {
      "cell_type": "code",
      "execution_count": null,
      "metadata": {
        "id": "fm5GmkonK0Y8"
      },
      "outputs": [],
      "source": [
        "import numpy as np\n",
        "import random\n",
        "from sklearn.metrics import accuracy_score"
      ]
    },
    {
      "cell_type": "code",
      "source": [],
      "metadata": {
        "id": "ZyVotkDXcShn"
      },
      "execution_count": null,
      "outputs": []
    },
    {
      "cell_type": "markdown",
      "source": [
        "![image.png](data:image/png;base64,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)"
      ],
      "metadata": {
        "id": "UcX7_ZS7DV7I"
      }
    },
    {
      "cell_type": "code",
      "source": [
        "print(\"boolean expression: not X and Y or X\")\n",
        "print('%10s %10s %10s' % ('X','Y','Result'))\n",
        "def bitFunc(x, y):\n",
        "  print('%10s %10s %10s' % (str(not x), str(y == 1 or x == 1), str(not x and (y == 1 or x == 1))))\n",
        "\n",
        "\n",
        "\n",
        "bitFunc(0,0)\n",
        "bitFunc(0,1)\n",
        "bitFunc(1,0)\n",
        "bitFunc(1,1)"
      ],
      "metadata": {
        "colab": {
          "base_uri": "https://localhost:8080/"
        },
        "id": "NrYZNIlFaHAp",
        "outputId": "75b39c8e-ebab-480c-9b7f-aca03abf3a72"
      },
      "execution_count": null,
      "outputs": [
        {
          "output_type": "stream",
          "name": "stdout",
          "text": [
            "boolean expression: not X and Y or X\n",
            "         X          Y     Result\n",
            "      True      False      False\n",
            "      True       True       True\n",
            "     False       True      False\n",
            "     False       True      False\n"
          ]
        }
      ]
    },
    {
      "cell_type": "code",
      "source": [
        "def step_func(x):\n",
        "  if(x > 0):\n",
        "    return 1\n",
        "  else:\n",
        "    return 0"
      ],
      "metadata": {
        "id": "z5ySYjkWabJa"
      },
      "execution_count": null,
      "outputs": []
    },
    {
      "cell_type": "code",
      "source": [
        "class Neuron:\n",
        "  def __init__(self, weights, bias):\n",
        "    self.weights = weights\n",
        "    self.bias = bias\n",
        "\n",
        "  def get_sum(self, x):\n",
        "    sum = self.bias\n",
        "    for i in range(len(self.weights)):\n",
        "      sum += self.weights[i] * x[i]\n",
        "    #print(\"sum for X: \" + str(x) + \"; sum = \" + str(sum))\n",
        "    return sum\n",
        "\n",
        "  def feed(self, x):\n",
        "    y = step_func(self.get_sum(x))\n",
        "    return y\n",
        "    \n",
        "  def print_params(self):\n",
        "    n_str = ''\n",
        "    for i in range(len(self.weights)):\n",
        "      n_str += str(self.weights[i]) + \" \"\n",
        "    print(n_str + str(self.bias))"
      ],
      "metadata": {
        "id": "n6YfTIBvbIYp"
      },
      "execution_count": null,
      "outputs": []
    },
    {
      "cell_type": "markdown",
      "source": [
        "![image.png](data:image/png;base64,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)"
      ],
      "metadata": {
        "id": "8OOnkugPDPYO"
      }
    },
    {
      "cell_type": "code",
      "source": [
        "class Network:\n",
        "  def __init__(self):\n",
        "    self.n1 = Neuron([random.randint(-5, 5), random.randint(-5, 5)], random.randint(-5, 5))\n",
        "    self.n2 = Neuron([random.randint(-5, 5), random.randint(-5, 5)], random.randint(-5, 5))\n",
        "    self.n3 = Neuron([random.randint(-5, 5), random.randint(-5, 5)], random.randint(-5, 5))\n",
        "    self.o1 = Neuron([random.randint(-5, 5), random.randint(-5, 5), random.randint(-5, 5)], random.randint(-5, 5))\n",
        "\n",
        "  def printNeurons(self):\n",
        "    print(\"[N1: \" + str(round(self.n1.weights[0], 2)) + \" \" + str(round(self.n1.weights[1], 2)) + \" N2: \" +\n",
        "                str(round(self.n2.weights[0], 2)) + \" \" + str(round(self.n2.weights[1], 2)) + \" N3: \" +\n",
        "                str(round(self.n3.weights[0], 2)) + \" \" + str(round(self.n3.weights[1], 2)) + \" O1: \" +\n",
        "                str(round(self.o1.weights[0], 2)) + \" \" + str(round(self.o1.weights[1], 2)) + \" \" + str(round(self.o1.weights[2], 2)) + \"]\")\n",
        "  def predict(self, data):\n",
        "    y_pred = []\n",
        "    for x in data:\n",
        "      h1 = self.n1.feed(x)\n",
        "      h2 = self.n2.feed(x)\n",
        "      h3 = self.n3.feed(x)\n",
        "      h = [h1, h2, h3]\n",
        "      y_pred.append(self.o1.feed(h))\n",
        "    return(y_pred)\n",
        "\n",
        "  def trainHebb(self, data, y_trues):\n",
        "    epochs = 30\n",
        "    self.printNeurons() # вывод рандомно сгенерированных весов для нейронов\n",
        "    for epoch in range(epochs): # для каждой эпохи корректируем веса\n",
        "      for x, y_true in zip(data, y_trues):\n",
        "        h1 = self.n1.feed(x)\n",
        "        h2 = self.n2.feed(x)\n",
        "        h3 = self.n3.feed(x)\n",
        "        h = [h1, h2, h3]\n",
        "        out1 = self.o1.feed(h)\n",
        "        #print(\"out1 is \" + str(out1))\n",
        "        if(out1 > y_true):\n",
        "          for i in range(len(x)):\n",
        "            self.n1.weights[i] -= x[i]\n",
        "            self.n2.weights[i] -= x[i]\n",
        "            self.n3.weights[i] -= x[i]\n",
        "            self.o1.weights[i] -= h[i]\n",
        "          self.n1.bias -= 1\n",
        "          self.n2.bias -= 1\n",
        "          self.n3.bias -= 1\n",
        "          self.o1.bias -= 1\n",
        "        elif(out1 < y_true):\n",
        "          for i in range(len(x)):\n",
        "            self.n1.weights[i] += x[i]\n",
        "            self.n2.weights[i] += x[i]\n",
        "            self.n3.weights[i] += x[i]\n",
        "            self.o1.weights[i] += h[i]\n",
        "          self.n1.bias += 1\n",
        "          self.n2.bias += 1\n",
        "          self.n3.bias += 1\n",
        "          self.o1.bias += 1\n",
        "          \n",
        "      y_preds = self.predict(data)\n",
        "      acc = accuracy_score(y_trues, y_preds)\n",
        "      print(\"Epoch %d acc: %.3f\" % (epoch, acc))\n",
        "      self.printNeurons()      \n",
        "    y_preds = self.predict(data)\n",
        "    acc = accuracy_score(y_trues, y_preds)\n",
        "    print(\"acc: \" + str(acc))\n",
        "    self.printNeurons()"
      ],
      "metadata": {
        "id": "GOhXDkznbKMp"
      },
      "execution_count": null,
      "outputs": []
    },
    {
      "cell_type": "code",
      "source": [
        "all_data = np.array([\n",
        "  [0, 0],\n",
        "  [0, 1],\n",
        "  [1, 0],\n",
        "  [1, 1],\n",
        "])\n",
        "\n",
        "all_y_trues = np.array([\n",
        "  0,\n",
        "  1,\n",
        "  0,\n",
        "  0,\n",
        "])\n",
        "\n",
        "network = Network()\n",
        "network.trainHebb(all_data, all_y_trues)"
      ],
      "metadata": {
        "colab": {
          "base_uri": "https://localhost:8080/"
        },
        "id": "TNTuS5tpbPOT",
        "outputId": "9aee090b-ec02-497f-ec37-9a8e34bea744"
      },
      "execution_count": null,
      "outputs": [
        {
          "output_type": "stream",
          "name": "stdout",
          "text": [
            "[N1: 5 -5 N2: -5 -4 N3: 5 -5 O1: 0 -4 2]\n",
            "Epoch 0 acc: 0.750\n",
            "[N1: 5 -4 N2: -5 -3 N3: 5 -4 O1: 0 -3 2]\n",
            "Epoch 1 acc: 0.750\n",
            "[N1: 4 -4 N2: -6 -3 N3: 4 -4 O1: -1 -2 2]\n",
            "Epoch 2 acc: 0.750\n",
            "[N1: 4 -3 N2: -6 -2 N3: 4 -3 O1: -1 -1 2]\n",
            "Epoch 3 acc: 0.750\n",
            "[N1: 3 -2 N2: -7 -1 N3: 3 -2 O1: -2 -1 2]\n",
            "Epoch 4 acc: 0.750\n",
            "[N1: 2 -1 N2: -8 0 N3: 2 -1 O1: -3 -1 2]\n",
            "Epoch 5 acc: 0.750\n",
            "[N1: 1 0 N2: -9 1 N3: 1 0 O1: -3 0 2]\n",
            "Epoch 6 acc: 0.750\n",
            "[N1: 0 1 N2: -10 2 N3: 0 1 O1: -3 1 2]\n",
            "Epoch 7 acc: 0.750\n",
            "[N1: -1 1 N2: -11 2 N3: -1 1 O1: -3 1 2]\n",
            "Epoch 8 acc: 0.750\n",
            "[N1: -2 1 N2: -12 2 N3: -2 1 O1: -3 2 2]\n",
            "Epoch 9 acc: 0.750\n",
            "[N1: -2 2 N2: -12 3 N3: -2 2 O1: -2 3 2]\n",
            "Epoch 10 acc: 1.000\n",
            "[N1: -2 2 N2: -12 3 N3: -2 2 O1: -3 2 2]\n",
            "Epoch 11 acc: 1.000\n",
            "[N1: -2 2 N2: -12 3 N3: -2 2 O1: -3 2 2]\n",
            "Epoch 12 acc: 1.000\n",
            "[N1: -2 2 N2: -12 3 N3: -2 2 O1: -3 2 2]\n",
            "Epoch 13 acc: 1.000\n",
            "[N1: -2 2 N2: -12 3 N3: -2 2 O1: -3 2 2]\n",
            "Epoch 14 acc: 1.000\n",
            "[N1: -2 2 N2: -12 3 N3: -2 2 O1: -3 2 2]\n",
            "Epoch 15 acc: 1.000\n",
            "[N1: -2 2 N2: -12 3 N3: -2 2 O1: -3 2 2]\n",
            "Epoch 16 acc: 1.000\n",
            "[N1: -2 2 N2: -12 3 N3: -2 2 O1: -3 2 2]\n",
            "Epoch 17 acc: 1.000\n",
            "[N1: -2 2 N2: -12 3 N3: -2 2 O1: -3 2 2]\n",
            "Epoch 18 acc: 1.000\n",
            "[N1: -2 2 N2: -12 3 N3: -2 2 O1: -3 2 2]\n",
            "Epoch 19 acc: 1.000\n",
            "[N1: -2 2 N2: -12 3 N3: -2 2 O1: -3 2 2]\n",
            "Epoch 20 acc: 1.000\n",
            "[N1: -2 2 N2: -12 3 N3: -2 2 O1: -3 2 2]\n",
            "Epoch 21 acc: 1.000\n",
            "[N1: -2 2 N2: -12 3 N3: -2 2 O1: -3 2 2]\n",
            "Epoch 22 acc: 1.000\n",
            "[N1: -2 2 N2: -12 3 N3: -2 2 O1: -3 2 2]\n",
            "Epoch 23 acc: 1.000\n",
            "[N1: -2 2 N2: -12 3 N3: -2 2 O1: -3 2 2]\n",
            "Epoch 24 acc: 1.000\n",
            "[N1: -2 2 N2: -12 3 N3: -2 2 O1: -3 2 2]\n",
            "Epoch 25 acc: 1.000\n",
            "[N1: -2 2 N2: -12 3 N3: -2 2 O1: -3 2 2]\n",
            "Epoch 26 acc: 1.000\n",
            "[N1: -2 2 N2: -12 3 N3: -2 2 O1: -3 2 2]\n",
            "Epoch 27 acc: 1.000\n",
            "[N1: -2 2 N2: -12 3 N3: -2 2 O1: -3 2 2]\n",
            "Epoch 28 acc: 1.000\n",
            "[N1: -2 2 N2: -12 3 N3: -2 2 O1: -3 2 2]\n",
            "Epoch 29 acc: 1.000\n",
            "[N1: -2 2 N2: -12 3 N3: -2 2 O1: -3 2 2]\n",
            "acc: 1.0\n",
            "[N1: -2 2 N2: -12 3 N3: -2 2 O1: -3 2 2]\n"
          ]
        }
      ]
    }
  ]
}