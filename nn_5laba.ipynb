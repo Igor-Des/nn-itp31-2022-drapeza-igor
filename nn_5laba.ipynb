{
  "nbformat": 4,
  "nbformat_minor": 0,
  "metadata": {
    "colab": {
      "provenance": [],
      "authorship_tag": "ABX9TyMIHUQaNkaBufTQ1MIohv1v",
      "include_colab_link": true
    },
    "kernelspec": {
      "name": "python3",
      "display_name": "Python 3"
    },
    "language_info": {
      "name": "python"
    }
  },
  "cells": [
    {
      "cell_type": "markdown",
      "metadata": {
        "id": "view-in-github",
        "colab_type": "text"
      },
      "source": [
        "<a href=\"https://colab.research.google.com/github/Igor-Des/nn-itp31-2022-drapeza-igor/blob/5laba/nn_5laba.ipynb\" target=\"_parent\"><img src=\"https://colab.research.google.com/assets/colab-badge.svg\" alt=\"Open In Colab\"/></a>"
      ]
    },
    {
      "cell_type": "code",
      "execution_count": 142,
      "metadata": {
        "id": "yrcXgxqNPPRL"
      },
      "outputs": [],
      "source": [
        "import numpy as np\n",
        "from sklearn.model_selection import train_test_split\n",
        "import matplotlib.pyplot as plt\n",
        "import matplotlib\n",
        "import random\n",
        "import math"
      ]
    },
    {
      "cell_type": "code",
      "source": [
        "FuncX = lambda x: x ** 2 * np.exp(np.sin(x))\n",
        "x = np.random.uniform(-5, 5, size=[10000, 1])\n",
        "x = x.reshape(10000)\n",
        "x.sort()\n",
        "x = x.reshape(10000, 1)\n",
        "y = FuncX(x)\n",
        "countOfHiddenNeuronsRBF = 7\n",
        "countOfHiddenNeuronsPRC = 7\n",
        "sigma=np.std(y)"
      ],
      "metadata": {
        "id": "LwfgV3yrPbVG"
      },
      "execution_count": 143,
      "outputs": []
    },
    {
      "cell_type": "code",
      "source": [
        "interpMtx = np.zeros((len(x), countOfHiddenNeuronsRBF))\n",
        "centers = x[np.random.choice(len(x), countOfHiddenNeuronsRBF)]\n",
        "def rbf(point, center):\n",
        "    return np.exp(-np.linalg.norm((point - center) ** 2 / (2 * sigma ** 2)))\n",
        "for i in range(len(x)):\n",
        "        for j in range(len(centers)):\n",
        "            interpMtx[i, j] = rbf(x[i], centers[j])\n",
        "weightsRBF = np.linalg.pinv(interpMtx) @ y\n",
        "\n",
        "def predictRBF(x):\n",
        "    mtx = np.zeros((len(x), countOfHiddenNeuronsRBF))\n",
        "    for i in range(len(x)):\n",
        "        for j in range(len(centers)):\n",
        "            mtx[i, j] = rbf(x[i], centers[j])\n",
        "    return mtx @ weightsRBF\n",
        "    \n",
        "# RBF aproximation\n",
        "print(\"RBF predict in 0:\")\n",
        "print(predictRBF([0]))\n",
        "print(\"FuncX in 0:\")\n",
        "print(FuncX(0))"
      ],
      "metadata": {
        "colab": {
          "base_uri": "https://localhost:8080/"
        },
        "id": "df9kB_OdPqeA",
        "outputId": "95f32420-322e-4855-a575-68bf93b4be82"
      },
      "execution_count": 144,
      "outputs": [
        {
          "output_type": "stream",
          "name": "stdout",
          "text": [
            "RBF predict in 0:\n",
            "[[0.89803505]]\n",
            "FuncX in 0:\n",
            "0.0\n"
          ]
        }
      ]
    },
    {
      "cell_type": "code",
      "source": [
        "def logistic(x):\n",
        "    return 1.0/(1 + np.exp(-x))\n",
        "\n",
        "def logistic_deriv(x):\n",
        "    return logistic(x) * (1 - logistic(x))\n",
        "\n",
        "LR = 1   \n",
        "\n",
        "I_dim = 1\n",
        "H_dim = 7\n",
        "\n",
        "epoch_count = 10\n",
        "\n",
        "#np.random.seed(1)\n",
        "\n",
        "\n",
        "weights_ItoH = np.random.uniform(-1, 1, (I_dim, H_dim))\n",
        "weights_HtoO = np.random.uniform(-1, 1, H_dim)\n",
        "preActivation_H = np.zeros(H_dim)\n",
        "postActivation_H = np.zeros(H_dim)\n",
        "def train1PRC(x, y):\n",
        "    \n",
        "    for epoch in range(epoch_count):\n",
        "        print(str(epoch) + \" / \" + str(epoch_count))\n",
        "        for sample in range(len(x)):\n",
        "            for node in range(H_dim):\n",
        "                preActivation_H[node] = np.dot(x[sample,:], weights_ItoH[:, node])\n",
        "                postActivation_H[node] = (preActivation_H[node])\n",
        "                \n",
        "            preActivation_O = np.dot(postActivation_H, weights_HtoO)\n",
        "            postActivation_O = preActivation_O\n",
        "            \n",
        "            FE = postActivation_O - y[sample]\n",
        "            \n",
        "            for H_node in range(H_dim):\n",
        "                S_error = FE * logistic_deriv(preActivation_O)\n",
        "                gradient_HtoO = S_error * postActivation_H[H_node]\n",
        "                           \n",
        "                for I_node in range(I_dim):\n",
        "                    input_value = x[sample]\n",
        "                    gradient_ItoH = S_error * weights_HtoO[H_node] * logistic_deriv(preActivation_H[H_node]) * input_value\n",
        "                \n",
        "                    weights_ItoH[I_node, H_node] -= LR * gradient_ItoH\n",
        "                    \n",
        "                weights_HtoO[H_node] -= LR * gradient_HtoO\n",
        "          \n",
        "def predict1PRC(x):\n",
        "    results = []\n",
        "    for sample in range(len(x)):\n",
        "        for node in range(H_dim):\n",
        "            preActivation_H[node] = np.dot(x[sample,:], weights_ItoH[:, node])\n",
        "            postActivation_H[node] = preActivation_H[node]\n",
        "                \n",
        "        preActivation_O = np.dot(postActivation_H, weights_HtoO)\n",
        "        results.append(preActivation_O)           \n",
        "    return results\n"
      ],
      "metadata": {
        "id": "JZgbLj4PPyeZ"
      },
      "execution_count": 145,
      "outputs": []
    },
    {
      "cell_type": "code",
      "source": [
        "train1PRC(x,y)"
      ],
      "metadata": {
        "colab": {
          "base_uri": "https://localhost:8080/"
        },
        "id": "NsKc5OmqP0lr",
        "outputId": "23f0e653-6bd6-430c-c7c8-7d5334d41247"
      },
      "execution_count": 146,
      "outputs": [
        {
          "output_type": "stream",
          "name": "stdout",
          "text": [
            "0 / 10\n",
            "1 / 10\n",
            "2 / 10\n",
            "3 / 10\n",
            "4 / 10\n",
            "5 / 10\n"
          ]
        },
        {
          "output_type": "stream",
          "name": "stderr",
          "text": [
            "<ipython-input-145-b40afeb33ea5>:2: RuntimeWarning: overflow encountered in exp\n",
            "  return 1.0/(1 + np.exp(-x))\n"
          ]
        },
        {
          "output_type": "stream",
          "name": "stdout",
          "text": [
            "6 / 10\n",
            "7 / 10\n",
            "8 / 10\n",
            "9 / 10\n"
          ]
        }
      ]
    },
    {
      "cell_type": "code",
      "source": [
        "def init_parameters(n_features, n_neurons, n_output):   \n",
        "    np.random.seed(100)\n",
        "    W1 = np.random.uniform(size=(n_features,n_neurons), low=-1.0, high=1.0)\n",
        "    b1 = np.zeros(shape=(1,n_neurons))\n",
        "    b1 += 1\n",
        "    W2 = np.random.uniform(size=(n_neurons,n_output), low=-1.0, high=1.0)\n",
        "    b2 = np.zeros(shape=(1,n_output))\n",
        "    b2 += 1\n",
        "    parameters = {\"W1\": W1,\n",
        "                  \"b1\": b1,\n",
        "                  \"W2\": W2,\n",
        "                  \"b2\": b2}\n",
        "    \n",
        "    return parameters\n",
        "def linear_function(W, X, b):\n",
        "    \n",
        "    return (X @ W)+b\n",
        "def sigmoid_function(Z):\n",
        "    \n",
        "    return 1/(1+np.exp(-Z))\n",
        "def cost_function(A, y):\n",
        "    \n",
        "    return (np.mean(np.power(A - y,2)))/2\n",
        "def predict2PRC(X, W1, W2, b1, b2):\n",
        "    \n",
        "    Z1 = linear_function(W1, X, b1)\n",
        "    S1 = Z1\n",
        "    Z2 = linear_function(W2, S1, b2)\n",
        "    S2 = Z2\n",
        "    return S2\n",
        "def fit2PRC(X, y, n_features=1, n_neurons=7, n_output=1, iterations=10, eta=0.01):\n",
        "    \n",
        "    ## ~~ Initialize parameters ~~##\n",
        "    param = init_parameters(n_features=n_features, \n",
        "                            n_neurons=n_neurons, \n",
        "                            n_output=n_output)\n",
        "\n",
        "    ## ~~ storage errors after each iteration ~~##\n",
        "    errors = []\n",
        "    \n",
        "    for _ in range(iterations):\n",
        "        \n",
        "        ##~~ Forward-propagation ~~##\n",
        "        \n",
        "        Z1 = linear_function(param['W1'], X, param['b1'])\n",
        "        S1 = Z1\n",
        "        Z2 = linear_function(param['W2'], S1, param['b2'])\n",
        "        S2 = Z2\n",
        "        \n",
        "        ##~~ Error computation ~~##\n",
        "        error = cost_function(S2, y)\n",
        "        errors.append(error)\n",
        "        \n",
        "        ##~~ Backpropagation ~~##\n",
        "        \n",
        "        # update output weights\n",
        "        delta2 = (S2 - y)*eta\n",
        "        W2_gradients = S1.T @ delta2\n",
        "        param[\"W2\"] = param[\"W2\"] - W2_gradients * eta\n",
        "\n",
        "        # update output bias\n",
        "        param[\"b2\"] = param[\"b2\"] - np.sum(delta2, axis=0, keepdims=True) * eta\n",
        "\n",
        "        # update hidden weights\n",
        "        delta1 = (delta2 @ param[\"W2\"].T )*eta\n",
        "        W1_gradients = X.T @ delta1 \n",
        "        param[\"W1\"] = param[\"W1\"] - W1_gradients * eta\n",
        "\n",
        "        # update hidden bias\n",
        "        param[\"b1\"] = param[\"b1\"] - np.sum(delta1, axis=0, keepdims=True) * eta\n",
        "        \n",
        "    return errors, param"
      ],
      "metadata": {
        "id": "1IZWWeu3QE4c"
      },
      "execution_count": 147,
      "outputs": []
    },
    {
      "cell_type": "code",
      "source": [
        "errors, param = fit2PRC(x, y, iterations=5000, eta=0.001)\n",
        "y_pred = predict2PRC(x, param[\"W1\"], param[\"W2\"], param[\"b1\"], param[\"b2\"])"
      ],
      "metadata": {
        "id": "2VnorIGJQblz"
      },
      "execution_count": 148,
      "outputs": []
    },
    {
      "cell_type": "code",
      "source": [
        "class Perceptron:\n",
        "    def __init__(self, l_rate=0.1):\n",
        "        self.layers = []\n",
        "        self.l_rate = l_rate\n",
        "        self.out = 0\n",
        "\n",
        "    def append_layer(self, n_inputs, n_output, existBias=False, isActivate = False):\n",
        "        self.layers.append(PerceptronLayer(n_inputs, n_output, existBias, isActivate))\n",
        "\n",
        "    def forward_propagate(self, x):\n",
        "        out = x\n",
        "        for layer in self.layers:\n",
        "            out = layer.forward_propagate(out)\n",
        "        self.out = out\n",
        "        return out\n",
        "\n",
        "    def backward_propagate(self, y):\n",
        "        error = self.out - y\n",
        "        for i in reversed(range(len(self.layers))):\n",
        "            if i != len(self.layers)-1:\n",
        "                self.layers[i].backward_propagate(self.layers[i+1].neurons,False, error)\n",
        "            else:\n",
        "                self.layers[i].backward_propagate(None, True, y)\n",
        "            \n",
        "\n",
        "    def update_weights(self, row):\n",
        "        for i in range(len(self.layers)):\n",
        "            inputs = row[:-1]\n",
        "            if i != 0:\n",
        "                inputs = [neuron['output'] for neuron in self.layers[i - 1].neurons]\n",
        "                if i != 1:\n",
        "                    oldInputs = inputs\n",
        "                    inputs = []\n",
        "                    for j in range(len(oldInputs)):\n",
        "                        current = oldInputs[j]\n",
        "                        previousInputs = [neuron['output'] for neuron in self.layers[i - 2].neurons]\n",
        "                        sumIn = 0\n",
        "                        for item in previousInputs:\n",
        "                            sumIn += item * current\n",
        "                        inputs.append(sumIn)\n",
        "            for neuron in self.layers[i].neurons:\n",
        "                for j in range(len(inputs)):\n",
        "                    neuron['weights'][j] -= self.l_rate * neuron['delta'] * inputs[j]\n",
        "                neuron['weights'][-1] -= self.l_rate * neuron['delta']\n",
        "    def fit(self, dataset):\n",
        "        for _ in range(25):\n",
        "            for row in dataset:\n",
        "                self.forward_propagate(row)\n",
        "                self.backward_propagate(row[-1])\n",
        "                self.update_weights(row)\n",
        "    def predict(self, x_list):\n",
        "        result = []\n",
        "        for x in x_list:\n",
        "            result.append(self.forward_propagate([x, None]))\n",
        "        return result\n",
        "class PerceptronLayer:\n",
        "    def __init__(self, n_inputs, n_output, existBias=False, isActivate = False):\n",
        "        if existBias:\n",
        "            n_inputs += 1\n",
        "        self.neurons = [{'weights': [np.random.uniform(-np.sqrt(1 / n_inputs), np.sqrt(1 / n_inputs)) for i in range(n_inputs)]}\n",
        "                        for i in range(n_output)]\n",
        "        self.existBias = existBias\n",
        "        self.isActivate = isActivate\n",
        "\n",
        "    def transfer(self, activation):\n",
        "        if self.isActivate:\n",
        "            return 1.0 / (1.0 + math.exp(-activation))\n",
        "        return activation\n",
        "\n",
        "    def transfer_derivative(self, output):\n",
        "        if self.isActivate:\n",
        "            return output * (1.0 - output)\n",
        "        return 1\n",
        "\n",
        "    def activate(self, weights, inputs):\n",
        "        activation = weights[-1]\n",
        "        for i in range(len(weights)-1):\n",
        "            activation += weights[i] * inputs[i]\n",
        "        return activation\n",
        "\n",
        "    def forward_propagate(self, x):\n",
        "        new_inputs = []\n",
        "        for neuron in self.neurons:\n",
        "            activation = self.activate(neuron['weights'], x)\n",
        "            neuron['output'] = self.transfer(activation)\n",
        "            new_inputs.append(neuron['output'])\n",
        "        return new_inputs\n",
        "\n",
        "    def backward_propagate(self, nextNeurons = None, isLast = False, y = None):\n",
        "        errors = list()\n",
        "        if not isLast:\n",
        "            for j in range(len(self.neurons)):\n",
        "                error = 0.0\n",
        "                for neuron in nextNeurons:\n",
        "                    error += (neuron['weights'][j] * neuron['delta'])\n",
        "                    errors.append(error)\n",
        "        else:\n",
        "            for j in range(len(self.neurons)):\n",
        "                neuron = self.neurons[j]\n",
        "                errors.append(neuron['output'] - y)\n",
        "        for j in range(len(self.neurons)):\n",
        "            neuron = self.neurons[j]\n",
        "            neuron['delta'] = errors[j] * \\\n",
        "                self.transfer_derivative(neuron['output'])\n",
        "\n",
        "plt.plot(x, predictRBF(x), \"g\", label=\"Радиально-базисная сеть\")\n",
        "plt.plot(x, y, \"black\", label=\"Функция\")\n",
        "plt.xlabel(\"x\")\n",
        "plt.ylabel(\"y\")\n",
        "plt.legend()\n",
        "plt.grid()\n",
        "plt.show()"
      ],
      "metadata": {
        "colab": {
          "base_uri": "https://localhost:8080/",
          "height": 279
        },
        "id": "-LdmYlHLQf85",
        "outputId": "0c9e8552-dfd2-4ef7-ebc5-af8b3a411c72"
      },
      "execution_count": 149,
      "outputs": [
        {
          "output_type": "display_data",
          "data": {
            "text/plain": [
              "<Figure size 432x288 with 1 Axes>"
            ],
            "image/png": "[encoded data removed]"
          },
          "metadata": {
            "needs_background": "light"
          }
        }
      ]
    },
    {
      "cell_type": "code",
      "source": [
        "\n",
        "# последний месяц usd/jpy\n",
        "# курс\n",
        "y = np.array([[0.17],[0.18],[0.17],[0.19],[0.19],[0.19],[0.20],[0.20],[0.23],[0.22],[0.24],[0.24],[0.24],[0.26],[0.30],[0.17],[0.23],[0.25],[0.25],[0.25],[0.30],[0.28],[0.29],[0.30],[0.19],[0.18],[0.18],[0.23],[0.25],[0.24],[0.19]])\n",
        "x = np.array([[1],[2],[3],[4],[5],[6],[7],[8],[9],[10],[11],[12],[13],[14],[15],[16],[17],[18],[19],[20],[21],[22],[23],[24],[25],[26],[27],[28],[29],[30],[31]])\n",
        "\n",
        "interpMtx = np.zeros((len(x), countOfHiddenNeuronsRBF))\n",
        "centers = x[np.random.choice(len(x), countOfHiddenNeuronsRBF)]\n",
        "\n",
        "def rbf(point, center):\n",
        "    return np.exp(-np.linalg.norm((point - center) ** 2 / (2 * sigma ** 2)))\n",
        "\n",
        "for i in range(len(x)):\n",
        "    for j in range(len(centers)):\n",
        "        interpMtx[i, j] = rbf(x[i], centers[j])\n",
        "\n",
        "weightsRBF = np.linalg.pinv(interpMtx) @ y\n",
        "\n",
        "def predictZAD2(x):\n",
        "    mtx = np.zeros((len(x), countOfHiddenNeuronsRBF))\n",
        "    for i in range(len(x)):\n",
        "        for j in range(len(centers)):\n",
        "            mtx[i, j] = rbf(x[i], centers[j])\n",
        "    return mtx @ weightsRBF\n",
        "     "
      ],
      "metadata": {
        "id": "6tgjOw0QQj1h"
      },
      "execution_count": 150,
      "outputs": []
    },
    {
      "cell_type": "code",
      "source": [
        "\n",
        "y = np.array([0.17,0.18,0.17,0.19,0.19,0.19,0.20,0.20,0.23,0.22,0.24,0.24,0.24,0.26,0.30,0.17,0.23,0.25,0.25,0.25,0.30,0.28,0.29,0.30,0.19,0.18,0.18,0.23,0.25,0.24,0.19])\n"
      ],
      "metadata": {
        "id": "pz-vBuVYQmqd"
      },
      "execution_count": 151,
      "outputs": []
    },
    {
      "cell_type": "code",
      "source": [
        "class RecurrentNeuralNetwork:\n",
        "    def __init__(self, input_number, hidden_number, output_number, l_rate=0.1):\n",
        "        self.l_rate = l_rate\n",
        "        self.w1 = np.random.uniform(-np.sqrt(1 / input_number), np.sqrt(1 / input_number), size=[input_number, hidden_number])\n",
        "        self.b1 = np.random.uniform(size=[1, hidden_number])\n",
        "        self.w2 = np.random.uniform(-np.sqrt(1 / hidden_number), np.sqrt(1 / hidden_number), size=[hidden_number, hidden_number])\n",
        "        self.b2 = np.random.uniform(size=[1, hidden_number])\n",
        "        self.h = np.zeros(shape=[1, hidden_number])\n",
        "        self.h_prev = np.zeros(shape=[1, hidden_number])\n",
        "        self.w3 = np.random.uniform(-np.sqrt(1 / hidden_number), np.sqrt(1 / hidden_number), size=[hidden_number, output_number])\n",
        "\n",
        "    def transfer(self, x):\n",
        "        return np.tanh(x)\n",
        "\n",
        "    def transfer_derivative(self, output):\n",
        "        return (1 - np.tanh(output) ** 2)\n",
        "\n",
        "    def forward_propagate(self, x):\n",
        "        self.x = x\n",
        "        self.h_prev = self.h\n",
        "        self.h = np.dot(self.x,self.w1) + self.b1 + np.dot(self.h_prev,self.w2) + self.b2\n",
        "        self.h = self.transfer(self.h)\n",
        "        self.output = np.dot(self.h,self.w3)\n",
        "        return self.output\n",
        "    \n",
        "    def backward_propagate(self, y):\n",
        "        error = self.output - y\n",
        "        self.dw = np.dot(self.h.T,error)\n",
        "        delta = self.transfer_derivative(self.h) * np.dot(error,self.w3.T)\n",
        "        self.dw_w1 = np.dot(self.x.T,delta)\n",
        "        self.db_b1 = delta\n",
        "        self.dw_w2 = np.dot(self.h_prev.T,delta)\n",
        "        self.db_b2 = delta\n",
        "        \n",
        "    def update_weights(self):\n",
        "        self.w1 -= self.l_rate * self.dw_w1\n",
        "        self.b1 -= self.l_rate * self.db_b1\n",
        "        self.w2 -= self.l_rate * self.dw_w2\n",
        "        self.b2 -= self.l_rate * self.db_b2\n",
        "        self.w3 -= self.l_rate * self.dw\n",
        "\n",
        "class SlidingLayer:\n",
        "    def __init__(self, n_inputs, n_output, isActivate = False):\n",
        "               \n",
        "        self.weight = np.random.uniform(low=-np.sqrt(1 / n_inputs), \n",
        "            high=np.sqrt(1 / n_inputs), size=[n_inputs, n_output])\n",
        "\n",
        "        self.isActivate = isActivate\n",
        "\n",
        "    def transfer(self, activation):\n",
        "        if self.isActivate:\n",
        "            return np.tanh(activation)\n",
        "        return activation\n",
        "\n",
        "    def transfer_derivative(self, output):\n",
        "        if self.isActivate:\n",
        "            return 1 - np.tanh(output) ** 2\n",
        "        return 1\n",
        "\n",
        "    def forward_propagate(self, x):\n",
        "        self.input = x\n",
        "        self.not_activated = np.dot(x,self.weight)\n",
        "        self.out = self.transfer(self.not_activated)\n",
        "        return self.out\n",
        "    \n",
        "    def backward_propagate(self, error):\n",
        "        delta = error * self.transfer_derivative(self.not_activated)\n",
        "        self.dw = np.dot(self.input.T,delta)\n",
        "        return np.dot(delta,self.weight.T)\n",
        "\n",
        "\n",
        "class SlidingPerceptron:\n",
        "    def __init__(self, l_rate=0.1):\n",
        "        self.l_rate = l_rate\n",
        "        self.layers = []        \n",
        "        self.output = 0\n",
        "        \n",
        "    def append_layer(self, n_inputs, n_output, isActivate = False):\n",
        "        self.layers.append(SlidingLayer(n_inputs, n_output, isActivate))\n",
        "    \n",
        "    def forward_propagate(self, input):\n",
        "        self.output = input\n",
        "        for layer in self.layers:\n",
        "            self.output = layer.forward_propagate(self.output)\n",
        "        return self.output\n",
        "    \n",
        "    def backward_propagate(self, y):\n",
        "        error = self.output - y\n",
        "        for layer in list(reversed(self.layers)):\n",
        "            error = layer.backward_propagate(error)\n",
        "    \n",
        "    def update_weights(self):\n",
        "        for layer in self.layers:\n",
        "            layer.weight -= self.l_rate * layer.dw"
      ],
      "metadata": {
        "id": "s0axE350Qq5h"
      },
      "execution_count": 152,
      "outputs": []
    },
    {
      "cell_type": "code",
      "source": [
        "class RNN:\n",
        "    \"\"\"\n",
        "    Класс рекуррентной нейронной сети (сети Элмана)\n",
        "    \"\"\"\n",
        "    def __init__(self, input_number, hidden_number, output_number, lr=0.01):\n",
        "        \"\"\"\n",
        "        Конструктор класса\n",
        "        input_number - число входных нейронов\n",
        "        hidden_number - число нейронов на скрытом слое\n",
        "        output_number - число выходных нейронов\n",
        "        lr - скорость обучения\n",
        "        \"\"\"\n",
        "        self.lr = lr\n",
        "\n",
        "        self.w_ih = np.random.uniform(-np.sqrt(1 / input_number), np.sqrt(1 / input_number), \n",
        "            size=[input_number, hidden_number])\n",
        "        self.b_ih = np.random.uniform(size=[1, hidden_number])\n",
        "\n",
        "        self.w_hh = np.random.uniform(-np.sqrt(1 / hidden_number), np.sqrt(1 / hidden_number), \n",
        "            size=[hidden_number, hidden_number])\n",
        "        self.b_hh = np.random.uniform(size=[1, hidden_number])\n",
        "\n",
        "        self.h = np.zeros(shape=[1, hidden_number])\n",
        "        self.h_t_1 = np.zeros(shape=[1, hidden_number])\n",
        "\n",
        "        self.w = np.random.uniform(-np.sqrt(1 / hidden_number), np.sqrt(1 / hidden_number), \n",
        "            size=[hidden_number, output_number])\n",
        "        \n",
        "    def forward(self, x):\n",
        "        \"\"\"\n",
        "        Функция прямого распространения\n",
        "        \"\"\"\n",
        "        self.x = x\n",
        "        self.h_t_1 = self.h\n",
        "        self.h = self.x @ self.w_ih + self.b_ih + self.h_t_1 @ self.w_hh + self.b_hh\n",
        "        self.h = np.tanh(self.h)\n",
        "        self.out = self.h @ self.w\n",
        "        return self.out\n",
        "    \n",
        "    def __call__(self, *args):\n",
        "        \"\"\"\n",
        "        Перегруженная функция\n",
        "        Вместо .forward(x) можно написать (x)\n",
        "        \"\"\"\n",
        "        return self.forward(*args)\n",
        "    \n",
        "    def backward(self, y):\n",
        "        \"\"\"\n",
        "        Функция обратного распространения, в которой рассчитываются градиенты\n",
        "        \"\"\"\n",
        "        dloss = self.out - y\n",
        "        self.dw = self.h.T @ dloss\n",
        "        dh = dloss @ self.w.T\n",
        "        grad = (1 - np.tanh(self.h) ** 2) * dh\n",
        "        self.dw_ih = self.x.T @ grad\n",
        "        self.db_ih = 1 * grad\n",
        "        self.dw_hh = self.h_t_1.T @ grad\n",
        "        self.db_hh = 1 * grad\n",
        "        \n",
        "    def update(self):\n",
        "        \"\"\"\n",
        "        Функция обновления весов\n",
        "        \"\"\"\n",
        "        self.w -= self.lr * self.dw\n",
        "        self.w_ih -= self.lr * self.dw_ih\n",
        "        self.b_ih -= self.lr * self.db_ih\n",
        "        self.w_hh -= self.lr * self.dw_hh\n",
        "        self.b_hh -= self.lr * self.db_hh\n",
        "\n",
        "sequence_len = 20\n",
        "dataset = y\n",
        "\n",
        "mean = np.mean(dataset)\n",
        "std = np.std(dataset)\n",
        "rnn = RecurrentNeuralNetwork(sequence_len, 31, 1, 0.002)\n",
        "perceptron = SlidingPerceptron(0.002)\n",
        "perceptron.append_layer(sequence_len, 31, isActivate = True)\n",
        "perceptron.append_layer(31, 1)\n",
        "for epoch in range(2500):\n",
        "    q = np.random.randint(0, sequence_len)\n",
        "    for i in range(q, len(dataset) - sequence_len, sequence_len):\n",
        "        x = (np.array(dataset[i : i+sequence_len]).reshape(1, sequence_len) - mean) / std\n",
        "        y = (np.array(dataset[i+sequence_len : i+sequence_len+1]).reshape(1, 1) - mean) / std\n",
        "        rnn.forward_propagate(x)\n",
        "        rnn.backward_propagate(y)\n",
        "        rnn.update_weights()\n",
        "        perceptron.forward_propagate(x)\n",
        "        perceptron.backward_propagate(y)\n",
        "        perceptron.update_weights()\n",
        "rnn_y = []\n",
        "perceptron_y = [] \n",
        "\n",
        "for i in dataset[-sequence_len:]:\n",
        "    rnn_y.append((i - mean) / std)\n",
        "    perceptron_y.append((i - mean) / std)\n",
        "\n",
        "for i in range(len(dataset)):\n",
        "    out_rnn = rnn.forward_propagate(np.array(rnn_y[i:i+sequence_len]).reshape(1, sequence_len)).reshape(-1)\n",
        "    out_perceptron = perceptron.forward_propagate(np.array(perceptron_y[i:i+sequence_len]).reshape(1, sequence_len)).reshape(-1)\n",
        "    rnn_y.append(out_rnn[0])\n",
        "    perceptron_y.append(out_perceptron[0])\n",
        "    \n",
        "elpred = np.array(rnn_y[sequence_len:]) * std + mean\n",
        "perpred = np.array(perceptron_y[sequence_len:])* std + mean\n",
        "plt.plot(elpred, label=\"Сеть Элмана\")\n",
        "plt.plot(perpred, label=\"Персептрон\")\n",
        "y = np.array([[0.17],[0.18],[0.17],[0.19],[0.19],[0.19],[0.20],[0.20],[0.23],[0.22],[0.24],[0.24],[0.24],[0.26],[0.30],[0.17],[0.23],[0.25],[0.25],[0.25],[0.30],[0.28],[0.29],[0.30],[0.19],[0.18],[0.18],[0.23],[0.25],[0.24],[0.19]])\n",
        "plt.plot(y,\"black\", label=\"Курс BYN к EUR\")\n",
        "plt.xlabel(\"День\")\n",
        "plt.ylabel(\"Курс BYN к EUR\")\n",
        "plt.legend()\n",
        "plt.grid()\n",
        "plt.show()\n",
        "     \n"
      ],
      "metadata": {
        "colab": {
          "base_uri": "https://localhost:8080/",
          "height": 279
        },
        "id": "2rbcZ9S2Qu4w",
        "outputId": "577d6521-9136-4904-89cd-99269ac40d72"
      },
      "execution_count": 153,
      "outputs": [
        {
          "output_type": "display_data",
          "data": {
            "text/plain": [
              "<Figure size 432x288 with 1 Axes>"
            ],
            "image/png": "[encoded data removed]"
          },
          "metadata": {
            "needs_background": "light"
          }
        }
      ]
    },
    {
      "cell_type": "code",
      "source": [
        "y = np.array([0.17,0.18,0.17,0.19,0.19,0.19,0.20,0.20,0.23,0.22,0.24,0.24,0.24,0.26,0.30,0.17,0.23,0.25,0.25,0.25,0.30,0.28,0.29,0.30,0.19,0.18,0.18,0.23,0.25,0.24,0.19])"
      ],
      "metadata": {
        "id": "X48eTJB7QyKW"
      },
      "execution_count": 154,
      "outputs": []
    },
    {
      "cell_type": "code",
      "source": [
        "for i in range(len(perpred)):\n",
        "  perpred[i] = round(perpred[i], 2)\n",
        "  elpred[i] = round(elpred[i], 2)"
      ],
      "metadata": {
        "id": "jwJnR30pQ0Oj"
      },
      "execution_count": 155,
      "outputs": []
    },
    {
      "cell_type": "code",
      "source": [
        "print(\"Персептрон: \")\n",
        "print(perpred)\n",
        "print(\"Сеть Элмана: \")\n",
        "print(elpred)\n",
        "print(\"Исходные данные: \")\n",
        "print(y)"
      ],
      "metadata": {
        "colab": {
          "base_uri": "https://localhost:8080/"
        },
        "id": "sa2h4cA0Q3U3",
        "outputId": "ace39096-3a57-43d2-c626-381b025bccb9"
      },
      "execution_count": 156,
      "outputs": [
        {
          "output_type": "stream",
          "name": "stdout",
          "text": [
            "Персептрон: \n",
            "[0.2  0.17 0.13 0.12 0.17 0.21 0.27 0.23 0.16 0.15 0.17 0.21 0.24 0.28\n",
            " 0.31 0.34 0.28 0.21 0.19 0.24 0.33 0.35 0.34 0.29 0.25 0.21 0.16 0.17\n",
            " 0.23 0.29 0.29]\n",
            "Сеть Элмана: \n",
            "[0.2  0.22 0.22 0.2  0.19 0.19 0.21 0.22 0.2  0.21 0.25 0.28 0.28 0.26\n",
            " 0.23 0.24 0.26 0.27 0.27 0.28 0.28 0.28 0.26 0.21 0.2  0.22 0.23 0.22\n",
            " 0.18 0.17 0.19]\n",
            "Исходные данные: \n",
            "[0.17 0.18 0.17 0.19 0.19 0.19 0.2  0.2  0.23 0.22 0.24 0.24 0.24 0.26\n",
            " 0.3  0.17 0.23 0.25 0.25 0.25 0.3  0.28 0.29 0.3  0.19 0.18 0.18 0.23\n",
            " 0.25 0.24 0.19]\n"
          ]
        }
      ]
    },
    {
      "cell_type": "code",
      "source": [
        "perp_acc = 0\n",
        "el_acc = 0\n",
        "\n",
        "for i in range(len(perpred)):\n",
        "  if abs(y[i] - perpred[i]) <= 0.05:\n",
        "    perp_acc += 1\n",
        "  if abs(y[i] - elpred[i]) <= 0.05:\n",
        "    el_acc += 1\n",
        "\n",
        "perp_acc /= round(len(perpred), 2)\n",
        "el_acc /= round(len(elpred), 2)"
      ],
      "metadata": {
        "id": "_YmFic0wRWGU"
      },
      "execution_count": 157,
      "outputs": []
    },
    {
      "cell_type": "code",
      "source": [
        "print(\"Точность на персептроне: \" + str(perp_acc))\n",
        "print(\"Точность на сети Элмана: \" + str(el_acc))"
      ],
      "metadata": {
        "colab": {
          "base_uri": "https://localhost:8080/"
        },
        "id": "vf66Ot3NRXxu",
        "outputId": "2ab12e5a-aea4-4f5b-9b67-0221646bbeb9"
      },
      "execution_count": 158,
      "outputs": [
        {
          "output_type": "stream",
          "name": "stdout",
          "text": [
            "Точность на персептроне: 0.5806451612903226\n",
            "Точность на сети Элмана: 0.8064516129032258\n"
          ]
        }
      ]
    }
  ]
}